{
 "cells": [
  {
   "cell_type": "markdown",
   "metadata": {},
   "source": [
    "# Walmart test\n",
    "\n",
    "### Creando una clusterización para el análisis de clientes"
   ]
  },
  {
   "cell_type": "code",
   "execution_count": null,
   "metadata": {},
   "outputs": [],
   "source": [
    "import pandas as pd\n",
    "import numpy as np\n",
    "import matplotlib.pyplot as plt\n",
    "from scipy.stats import zscore\n",
    "from sklearn.cluster import KMeans\n",
    "from sklearn.metrics import pairwise_distances_argmin_min"
   ]
  },
  {
   "cell_type": "markdown",
   "metadata": {},
   "source": [
    "Cargo el dataset en un dataframe."
   ]
  },
  {
   "cell_type": "code",
   "execution_count": 111,
   "metadata": {},
   "outputs": [
    {
     "data": {
      "text/html": [
       "<div>\n",
       "<style scoped>\n",
       "    .dataframe tbody tr th:only-of-type {\n",
       "        vertical-align: middle;\n",
       "    }\n",
       "\n",
       "    .dataframe tbody tr th {\n",
       "        vertical-align: top;\n",
       "    }\n",
       "\n",
       "    .dataframe thead th {\n",
       "        text-align: right;\n",
       "    }\n",
       "</style>\n",
       "<table border=\"1\" class=\"dataframe\">\n",
       "  <thead>\n",
       "    <tr style=\"text-align: right;\">\n",
       "      <th></th>\n",
       "      <th>Cliente</th>\n",
       "      <th>Boleta</th>\n",
       "      <th>Producto</th>\n",
       "      <th>Cantidad</th>\n",
       "      <th>Venta</th>\n",
       "      <th>Costo</th>\n",
       "    </tr>\n",
       "  </thead>\n",
       "  <tbody>\n",
       "    <tr>\n",
       "      <th>count</th>\n",
       "      <td>2.569613e+06</td>\n",
       "      <td>2.569613e+06</td>\n",
       "      <td>2.569613e+06</td>\n",
       "      <td>2.569613e+06</td>\n",
       "      <td>2.569613e+06</td>\n",
       "      <td>2.569613e+06</td>\n",
       "    </tr>\n",
       "    <tr>\n",
       "      <th>mean</th>\n",
       "      <td>7.210894e+03</td>\n",
       "      <td>2.148183e+05</td>\n",
       "      <td>2.109738e+03</td>\n",
       "      <td>1.637837e+00</td>\n",
       "      <td>1.787426e+03</td>\n",
       "      <td>1.650872e+03</td>\n",
       "    </tr>\n",
       "    <tr>\n",
       "      <th>std</th>\n",
       "      <td>7.623852e+03</td>\n",
       "      <td>1.236286e+05</td>\n",
       "      <td>1.937025e+03</td>\n",
       "      <td>1.621468e+00</td>\n",
       "      <td>1.916395e+03</td>\n",
       "      <td>1.761263e+03</td>\n",
       "    </tr>\n",
       "    <tr>\n",
       "      <th>min</th>\n",
       "      <td>1.000000e+00</td>\n",
       "      <td>1.000000e+00</td>\n",
       "      <td>1.000000e+00</td>\n",
       "      <td>1.000000e+00</td>\n",
       "      <td>0.000000e+00</td>\n",
       "      <td>0.000000e+00</td>\n",
       "    </tr>\n",
       "    <tr>\n",
       "      <th>25%</th>\n",
       "      <td>1.870000e+03</td>\n",
       "      <td>1.070870e+05</td>\n",
       "      <td>4.880000e+02</td>\n",
       "      <td>1.000000e+00</td>\n",
       "      <td>8.200000e+02</td>\n",
       "      <td>7.570000e+02</td>\n",
       "    </tr>\n",
       "    <tr>\n",
       "      <th>50%</th>\n",
       "      <td>4.437000e+03</td>\n",
       "      <td>2.139870e+05</td>\n",
       "      <td>1.462000e+03</td>\n",
       "      <td>1.000000e+00</td>\n",
       "      <td>1.260000e+03</td>\n",
       "      <td>1.162000e+03</td>\n",
       "    </tr>\n",
       "    <tr>\n",
       "      <th>75%</th>\n",
       "      <td>9.628000e+03</td>\n",
       "      <td>3.219880e+05</td>\n",
       "      <td>3.355000e+03</td>\n",
       "      <td>2.000000e+00</td>\n",
       "      <td>2.000000e+03</td>\n",
       "      <td>1.893000e+03</td>\n",
       "    </tr>\n",
       "    <tr>\n",
       "      <th>max</th>\n",
       "      <td>3.627200e+04</td>\n",
       "      <td>4.291440e+05</td>\n",
       "      <td>7.649000e+03</td>\n",
       "      <td>1.800000e+02</td>\n",
       "      <td>2.195600e+05</td>\n",
       "      <td>1.992340e+05</td>\n",
       "    </tr>\n",
       "  </tbody>\n",
       "</table>\n",
       "</div>"
      ],
      "text/plain": [
       "            Cliente        Boleta      Producto      Cantidad         Venta  \\\n",
       "count  2.569613e+06  2.569613e+06  2.569613e+06  2.569613e+06  2.569613e+06   \n",
       "mean   7.210894e+03  2.148183e+05  2.109738e+03  1.637837e+00  1.787426e+03   \n",
       "std    7.623852e+03  1.236286e+05  1.937025e+03  1.621468e+00  1.916395e+03   \n",
       "min    1.000000e+00  1.000000e+00  1.000000e+00  1.000000e+00  0.000000e+00   \n",
       "25%    1.870000e+03  1.070870e+05  4.880000e+02  1.000000e+00  8.200000e+02   \n",
       "50%    4.437000e+03  2.139870e+05  1.462000e+03  1.000000e+00  1.260000e+03   \n",
       "75%    9.628000e+03  3.219880e+05  3.355000e+03  2.000000e+00  2.000000e+03   \n",
       "max    3.627200e+04  4.291440e+05  7.649000e+03  1.800000e+02  2.195600e+05   \n",
       "\n",
       "              Costo  \n",
       "count  2.569613e+06  \n",
       "mean   1.650872e+03  \n",
       "std    1.761263e+03  \n",
       "min    0.000000e+00  \n",
       "25%    7.570000e+02  \n",
       "50%    1.162000e+03  \n",
       "75%    1.893000e+03  \n",
       "max    1.992340e+05  "
      ]
     },
     "execution_count": 111,
     "metadata": {},
     "output_type": "execute_result"
    }
   ],
   "source": [
    "data = pd.read_csv('data/data_practica.csv')\n",
    "data.describe() \n",
    "\n"
   ]
  },
  {
   "cell_type": "markdown",
   "metadata": {},
   "source": [
    "## Análisis previo de los datos\n",
    "\n",
    "Para poder generar la clusterización de los datos se deben tener dos  cáracteristicas por clientes. Las utilizadas para este ejercicio fueron la de Ganancia ('Profit' en inglés) calculada restando el valor venta y menos el valor costo de cada producto en cada boleta. \n"
   ]
  },
  {
   "cell_type": "code",
   "execution_count": 66,
   "metadata": {},
   "outputs": [
    {
     "data": {
      "text/plain": [
       "array([ 1081, 87455,  2410, ...,   451,   588,   460])"
      ]
     },
     "execution_count": 66,
     "metadata": {},
     "output_type": "execute_result"
    }
   ],
   "source": [
    "data['Profit'] = data.Venta - data.Costo\n",
    "x = data.groupby(['Cliente']).sum()['Profit'].values\n",
    "x"
   ]
  },
  {
   "cell_type": "markdown",
   "metadata": {},
   "source": [
    "El otro fue la frecuencia de compra de cada cliente. Para el cual se cálculo la cantidad de veces que un cliente registraba una boleta."
   ]
  },
  {
   "cell_type": "code",
   "execution_count": 65,
   "metadata": {},
   "outputs": [
    {
     "data": {
      "text/plain": [
       "array([  9, 771,  28, ...,   5,   2,   7])"
      ]
     },
     "execution_count": 65,
     "metadata": {},
     "output_type": "execute_result"
    }
   ],
   "source": [
    "y = data.groupby(['Cliente']).size().values\n",
    "y"
   ]
  },
  {
   "cell_type": "markdown",
   "metadata": {},
   "source": [
    "Entonces el mejor cliente depende de cuanta es la ganancia que genera en cada compra (eje X) vs la cantidad de veces que compro en la tienda (eje y)"
   ]
  },
  {
   "cell_type": "code",
   "execution_count": 115,
   "metadata": {},
   "outputs": [
    {
     "data": {
      "text/plain": [
       "array([[ 1081,     9],\n",
       "       [87455,   771],\n",
       "       [ 2410,    28],\n",
       "       ...,\n",
       "       [  451,     5],\n",
       "       [  588,     2],\n",
       "       [  460,     7]])"
      ]
     },
     "execution_count": 115,
     "metadata": {},
     "output_type": "execute_result"
    }
   ],
   "source": [
    "data_points = np.column_stack((x,y))\n",
    "data_points"
   ]
  },
  {
   "cell_type": "markdown",
   "metadata": {},
   "source": [
    "Para asegurarnos que las cáracteristicas tengan la misma escala de valores, aplicamos una estandarización con **z-score**, ya que precio es distinto a frecuencia "
   ]
  },
  {
   "cell_type": "code",
   "execution_count": 119,
   "metadata": {},
   "outputs": [
    {
     "data": {
      "text/plain": [
       "array([[-0.3659428 , -0.37733715],\n",
       "       [ 3.31244496,  4.27204048],\n",
       "       [-0.30934501, -0.26140779],\n",
       "       ...,\n",
       "       [-0.39277245, -0.40174333],\n",
       "       [-0.38693807, -0.42004797],\n",
       "       [-0.39238917, -0.38954024]])"
      ]
     },
     "execution_count": 119,
     "metadata": {},
     "output_type": "execute_result"
    }
   ],
   "source": [
    "data_points = zscore(data_points)\n",
    "data_points"
   ]
  },
  {
   "cell_type": "markdown",
   "metadata": {},
   "source": [
    "Gráficamos nuestros datos en un plano cartesiano para poder visualizar mejor los datos. Los datos en general muestran gran densidad en los puntos, pero la naturaleza del problema entiende que los mejores clientes generan alta ganancia como tambien tienen alta frecuencia por lo que lo que necesitamos una interpretación jerarquica de los clusters (eliminando la opción de un clustering aglomerativo) como tampoco la existencia de clusters que puedan existir en ambas regiones (eliminando DBSCAN). Dado esta información se eligio K-means como método de clusterización de los datos. "
   ]
  },
  {
   "cell_type": "code",
   "execution_count": 120,
   "metadata": {},
   "outputs": [
    {
     "data": {
      "image/png": "[encoded data removed]",
      "text/plain": [
       "<Figure size 432x288 with 1 Axes>"
      ]
     },
     "metadata": {
      "needs_background": "light"
     },
     "output_type": "display_data"
    }
   ],
   "source": [
    "plt.scatter(data_points[:,0], data_points[:,1], c='white', marker='o', edgecolor='black', s=50)\n",
    "plt.grid()\n",
    "plt.show()"
   ]
  },
  {
   "cell_type": "markdown",
   "metadata": {},
   "source": [
    "## Clusterización: K-Means\n",
    "Utilizando el método del codo (Elbow method) podemons encontrar de manera eficiente la cantidad de clusters necesarios para KMeans. "
   ]
  },
  {
   "cell_type": "code",
   "execution_count": 113,
   "metadata": {},
   "outputs": [
    {
     "data": {
      "image/png": "[encoded data removed]",
      "text/plain": [
       "<Figure size 432x288 with 1 Axes>"
      ]
     },
     "metadata": {
      "needs_background": "light"
     },
     "output_type": "display_data"
    }
   ],
   "source": [
    "distorsions = []\n",
    "for i in range(1,11):\n",
    "    model_tn = KMeans(n_clusters=i,init='k-means++',n_init=10,max_iter=300,random_state=0)\n",
    "    model_tn.fit(data_points)\n",
    "    distorsions.append(model_tn.inertia_)\n",
    "plt.plot(range(1,11), distorsions, marker='o')\n",
    "plt.xlabel('Num of clusters')\n",
    "plt.ylabel('Distorsion')\n",
    "plt.show()"
   ]
  },
  {
   "cell_type": "markdown",
   "metadata": {},
   "source": [
    " El resultado nos entrega 4 clusters como el 'codo' a la hora de gráficar la distorsión"
   ]
  },
  {
   "cell_type": "code",
   "execution_count": 106,
   "metadata": {},
   "outputs": [],
   "source": [
    "model = KMeans(n_clusters = 4, init='k-means++',n_init=10,max_iter=300,tol=1e-04,random_state=0)\n",
    "y_pred = model.fit_predict(data_points)"
   ]
  },
  {
   "cell_type": "code",
   "execution_count": 123,
   "metadata": {},
   "outputs": [
    {
     "data": {
      "image/png": "[encoded data removed]",
      "text/plain": [
       "<Figure size 432x288 with 1 Axes>"
      ]
     },
     "metadata": {
      "needs_background": "light"
     },
     "output_type": "display_data"
    }
   ],
   "source": [
    "plt.scatter(data_points[y_pred == 0,0], data_points[y_pred == 0,1],s=50,c='green',marker='s',edgecolor='black',label='cluster 1')\n",
    "plt.scatter(data_points[y_pred == 1,0], data_points[y_pred == 1,1],s=50,c='orange',marker='o',edgecolor='black',label='cluster 2')\n",
    "plt.scatter(data_points[y_pred == 2,0], data_points[y_pred == 2,1],s=50,c='lightblue',marker='v',edgecolor='black',label='cluster 3')\n",
    "plt.scatter(data_points[y_pred == 3,0], data_points[y_pred == 3,1],s=50,c='lightyellow',marker='h',edgecolor='black',label='cluster 4')\n",
    "plt.scatter(model.cluster_centers_[:,0], model.cluster_centers_[:,1],s=250,marker='*',c='red',edgecolor='black',label='centroids')\n",
    "plt.legend(scatterpoints=1)\n",
    "plt.grid()\n",
    "plt.show()"
   ]
  },
  {
   "cell_type": "markdown",
   "metadata": {},
   "source": [
    "El resultado de la clusterización nos muestra que se formaron 4 clusters en donde el cluster 3 debería tener los mejores clientes agrupados, mientras que el cluster 2 los peores.\n",
    "\n",
    "## 15 productos más relevantes\n",
    "\n",
    "Para obtener "
   ]
  },
  {
   "cell_type": "code",
   "execution_count": 172,
   "metadata": {
    "scrolled": true
   },
   "outputs": [
    {
     "data": {
      "text/html": [
       "<div>\n",
       "<style scoped>\n",
       "    .dataframe tbody tr th:only-of-type {\n",
       "        vertical-align: middle;\n",
       "    }\n",
       "\n",
       "    .dataframe tbody tr th {\n",
       "        vertical-align: top;\n",
       "    }\n",
       "\n",
       "    .dataframe thead th {\n",
       "        text-align: right;\n",
       "    }\n",
       "</style>\n",
       "<table border=\"1\" class=\"dataframe\">\n",
       "  <thead>\n",
       "    <tr style=\"text-align: right;\">\n",
       "      <th></th>\n",
       "      <th>Producto</th>\n",
       "      <th>Freq_prod</th>\n",
       "    </tr>\n",
       "  </thead>\n",
       "  <tbody>\n",
       "    <tr>\n",
       "      <th>0</th>\n",
       "      <td>809</td>\n",
       "      <td>136</td>\n",
       "    </tr>\n",
       "    <tr>\n",
       "      <th>1</th>\n",
       "      <td>465</td>\n",
       "      <td>94</td>\n",
       "    </tr>\n",
       "    <tr>\n",
       "      <th>2</th>\n",
       "      <td>28</td>\n",
       "      <td>89</td>\n",
       "    </tr>\n",
       "    <tr>\n",
       "      <th>3</th>\n",
       "      <td>63</td>\n",
       "      <td>86</td>\n",
       "    </tr>\n",
       "    <tr>\n",
       "      <th>4</th>\n",
       "      <td>326</td>\n",
       "      <td>76</td>\n",
       "    </tr>\n",
       "    <tr>\n",
       "      <th>5</th>\n",
       "      <td>202</td>\n",
       "      <td>75</td>\n",
       "    </tr>\n",
       "    <tr>\n",
       "      <th>6</th>\n",
       "      <td>358</td>\n",
       "      <td>74</td>\n",
       "    </tr>\n",
       "    <tr>\n",
       "      <th>7</th>\n",
       "      <td>1817</td>\n",
       "      <td>72</td>\n",
       "    </tr>\n",
       "    <tr>\n",
       "      <th>8</th>\n",
       "      <td>912</td>\n",
       "      <td>69</td>\n",
       "    </tr>\n",
       "    <tr>\n",
       "      <th>9</th>\n",
       "      <td>579</td>\n",
       "      <td>68</td>\n",
       "    </tr>\n",
       "    <tr>\n",
       "      <th>10</th>\n",
       "      <td>622</td>\n",
       "      <td>67</td>\n",
       "    </tr>\n",
       "    <tr>\n",
       "      <th>11</th>\n",
       "      <td>4514</td>\n",
       "      <td>67</td>\n",
       "    </tr>\n",
       "    <tr>\n",
       "      <th>12</th>\n",
       "      <td>2497</td>\n",
       "      <td>66</td>\n",
       "    </tr>\n",
       "    <tr>\n",
       "      <th>13</th>\n",
       "      <td>464</td>\n",
       "      <td>63</td>\n",
       "    </tr>\n",
       "    <tr>\n",
       "      <th>14</th>\n",
       "      <td>459</td>\n",
       "      <td>62</td>\n",
       "    </tr>\n",
       "  </tbody>\n",
       "</table>\n",
       "</div>"
      ],
      "text/plain": [
       "    Producto  Freq_prod\n",
       "0        809        136\n",
       "1        465         94\n",
       "2         28         89\n",
       "3         63         86\n",
       "4        326         76\n",
       "5        202         75\n",
       "6        358         74\n",
       "7       1817         72\n",
       "8        912         69\n",
       "9        579         68\n",
       "10       622         67\n",
       "11      4514         67\n",
       "12      2497         66\n",
       "13       464         63\n",
       "14       459         62"
      ]
     },
     "execution_count": 172,
     "metadata": {},
     "output_type": "execute_result"
    }
   ],
   "source": [
    "best_clients = []\n",
    "for i, label in enumerate(model.labels_):\n",
    "        if(label==3):\n",
    "            best_clients.append(i+1)\n",
    "df_byproduct = data.groupby(['Cliente','Producto']).size().to_frame().reset_index()\n",
    "\n",
    "data_best = df_byproduct[df_byproduct['Cliente'].isin(best_clients)]\n",
    "\n",
    "data_best.columns = ['Cliente','Producto','Freq_prod']\n",
    "\n",
    "data_best.sort_values(by='Freq_prod', ascending=False).head(15).reset_index()[['Producto','Freq_prod']]"
   ]
  },
  {
   "cell_type": "code",
   "execution_count": null,
   "metadata": {},
   "outputs": [],
   "source": []
  }
 ],
 "metadata": {
  "kernelspec": {
   "display_name": "Python 3",
   "language": "python",
   "name": "python3"
  },
  "language_info": {
   "codemirror_mode": {
    "name": "ipython",
    "version": 3
   },
   "file_extension": ".py",
   "mimetype": "text/x-python",
   "name": "python",
   "nbconvert_exporter": "python",
   "pygments_lexer": "ipython3",
   "version": "3.7.0"
  }
 },
 "nbformat": 4,
 "nbformat_minor": 2
}
